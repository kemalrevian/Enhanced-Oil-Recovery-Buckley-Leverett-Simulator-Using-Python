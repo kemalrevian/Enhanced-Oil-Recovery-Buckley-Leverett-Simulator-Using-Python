{
 "cells": [
  {
   "attachments": {},
   "cell_type": "markdown",
   "metadata": {},
   "source": [
    "### Group Assignment 1\n",
    "#### Topic : Buckley Leverett Simulator\n",
    "###### 1. Achmad Iyan Alfadany (101320032)\n",
    "###### 2. Arrafi'atu Arsy Almas (101320068)\n",
    "###### 3. M. Fahmi Munawar (10132050)\n",
    "###### 4. Hygiano Paksi W.A (101320090)\n",
    "###### 5. Kemal Reviansyah Hermawanto (101320118)\n"
   ]
  },
  {
   "attachments": {
    "image.png": {
     "image/png": "[encoded data removed]"
    }
   },
   "cell_type": "markdown",
   "metadata": {},
   "source": [
    "![image.png](attachment:image.png)"
   ]
  },
  {
   "cell_type": "markdown",
   "metadata": {},
   "source": [
    "Youtube Link :\n",
    "https://www.youtube.com/watch?v=3hP9Tdal6ho"
   ]
  },
  {
   "attachments": {},
   "cell_type": "markdown",
   "metadata": {},
   "source": [
    "#### Buckley Leverret Simulator"
   ]
  },
  {
   "cell_type": "code",
   "execution_count": 1,
   "metadata": {},
   "outputs": [],
   "source": [
    "import numpy as np\n",
    "import pandas as pd\n",
    "import seaborn as sns\n",
    "import matplotlib.pyplot as plt\n",
    "from shapely.geometry import LineString"
   ]
  },
  {
   "attachments": {},
   "cell_type": "markdown",
   "metadata": {},
   "source": [
    "#### User Input"
   ]
  },
  {
   "cell_type": "code",
   "execution_count": 2,
   "metadata": {},
   "outputs": [],
   "source": [
    "#Create User Input\n",
    "Swi = float(input(\"Masukkan Nilai Swi : \"))\n",
    "Sor = float(input(\"Masukkan Nilai Sor : \"))\n",
    "Fvf = float(input(\"Masukkan Nilai Fvf : \"))\n",
    "\n",
    "#Reservoir Properties\n",
    "Porosity = float(input(\"Masukan Nilai Porositas : \"))\n",
    "width = float(input(\"Masukan Lebar Reservoir : \"))\n",
    "length = float(input(\"Masukan Panjang Reservoir : \"))\n",
    "thickness = float(input(\"Masukan Tebal Reservoir : \"))\n",
    "\n",
    "#Fluid Properties\n",
    "uo = float(input(\"Masukan Nilai Viskositas Minyak : \"))\n",
    "uw = float(input(\"Masukan Nilai Viskositas Air : \"))\n",
    "\n",
    "#Injection Rate\n",
    "Q_rate = float(input(\"Masukan Nilai Laju Injeksi : \"))"
   ]
  },
  {
   "cell_type": "code",
   "execution_count": 3,
   "metadata": {},
   "outputs": [],
   "source": [
    "#Create User Input\n",
    "\n",
    "# Swi = 0.371\n",
    "# Sor = 0.298\n",
    "# Fvf = 1\n",
    "\n",
    "# #Reservoir Properties\n",
    "# Porosity = 0.11\n",
    "# width = 312\n",
    "# length = 924\n",
    "# thickness = 23\n",
    "\n",
    "# #Fluid Properties\n",
    "# uo = int(11.4)\n",
    "# uw = int(1.1)\n",
    "\n",
    "# #Injection Rate\n",
    "# Q_rate = 608"
   ]
  },
  {
   "attachments": {},
   "cell_type": "markdown",
   "metadata": {},
   "source": [
    "#### Perhitungan (Swd, Sw, Kro, Krw, dan Fw)"
   ]
  },
  {
   "cell_type": "code",
   "execution_count": 4,
   "metadata": {},
   "outputs": [
    {
     "data": {
      "text/plain": [
       "array([0.  , 0.05, 0.1 , 0.15, 0.2 , 0.25, 0.3 , 0.35, 0.4 , 0.45, 0.5 ,\n",
       "       0.55, 0.6 , 0.65, 0.7 , 0.75, 0.8 , 0.85, 0.9 , 0.95, 1.  ])"
      ]
     },
     "execution_count": 4,
     "metadata": {},
     "output_type": "execute_result"
    }
   ],
   "source": [
    "swd = np.arange(0,1.05,0.05)\n",
    "swd"
   ]
  },
  {
   "cell_type": "code",
   "execution_count": 5,
   "metadata": {},
   "outputs": [],
   "source": [
    "sw = swd*(1-Sor-Swi)+Swi"
   ]
  },
  {
   "cell_type": "code",
   "execution_count": 6,
   "metadata": {},
   "outputs": [],
   "source": [
    "kro = (1-swd)**3\n",
    "krw = swd**3"
   ]
  },
  {
   "cell_type": "code",
   "execution_count": 7,
   "metadata": {},
   "outputs": [
    {
     "data": {
      "text/plain": [
       "array([1.00000e+00, 8.57375e-01, 7.29000e-01, 6.14125e-01, 5.12000e-01,\n",
       "       4.21875e-01, 3.43000e-01, 2.74625e-01, 2.16000e-01, 1.66375e-01,\n",
       "       1.25000e-01, 9.11250e-02, 6.40000e-02, 4.28750e-02, 2.70000e-02,\n",
       "       1.56250e-02, 8.00000e-03, 3.37500e-03, 1.00000e-03, 1.25000e-04,\n",
       "       0.00000e+00])"
      ]
     },
     "execution_count": 7,
     "metadata": {},
     "output_type": "execute_result"
    }
   ],
   "source": [
    "kro"
   ]
  },
  {
   "cell_type": "code",
   "execution_count": 8,
   "metadata": {},
   "outputs": [
    {
     "data": {
      "text/plain": [
       "array([0.00000e+00, 1.25000e-04, 1.00000e-03, 3.37500e-03, 8.00000e-03,\n",
       "       1.56250e-02, 2.70000e-02, 4.28750e-02, 6.40000e-02, 9.11250e-02,\n",
       "       1.25000e-01, 1.66375e-01, 2.16000e-01, 2.74625e-01, 3.43000e-01,\n",
       "       4.21875e-01, 5.12000e-01, 6.14125e-01, 7.29000e-01, 8.57375e-01,\n",
       "       1.00000e+00])"
      ]
     },
     "execution_count": 8,
     "metadata": {},
     "output_type": "execute_result"
    }
   ],
   "source": [
    "krw"
   ]
  },
  {
   "cell_type": "code",
   "execution_count": 9,
   "metadata": {},
   "outputs": [
    {
     "name": "stderr",
     "output_type": "stream",
     "text": [
      "C:\\Users\\kemalrevian\\AppData\\Local\\Temp\\ipykernel_16716\\3728974307.py:1: RuntimeWarning: divide by zero encountered in divide\n",
      "  fw = 1/(1+(uw*kro)/(uo*krw))\n"
     ]
    }
   ],
   "source": [
    "fw = 1/(1+(uw*kro)/(uo*krw))"
   ]
  },
  {
   "cell_type": "code",
   "execution_count": 10,
   "metadata": {},
   "outputs": [
    {
     "data": {
      "text/plain": [
       "array([0.        , 0.00150867, 0.01401697, 0.05388561, 0.1393643 ,\n",
       "       0.27737226, 0.44927748, 0.61802779, 0.75434243, 0.85021535,\n",
       "       0.912     , 0.94980376, 0.97220467, 0.98515917, 0.99246174,\n",
       "       0.99643898, 0.99849459, 0.99947   , 0.99986766, 0.99998593,\n",
       "       1.        ])"
      ]
     },
     "execution_count": 10,
     "metadata": {},
     "output_type": "execute_result"
    }
   ],
   "source": [
    "fw"
   ]
  },
  {
   "cell_type": "code",
   "execution_count": 11,
   "metadata": {},
   "outputs": [
    {
     "name": "stdout",
     "output_type": "stream",
     "text": [
      "729368.64 cu-ft\n",
      "129907.8484704 bbl\n"
     ]
    }
   ],
   "source": [
    "#Determine Vpore\n",
    "A = length*width*Porosity\n",
    "Vpore = A*thickness\n",
    "VporeN = Vpore*0.17811\n",
    "print(Vpore,\"cu-ft\")\n",
    "print(VporeN,\"bbl\")"
   ]
  },
  {
   "attachments": {},
   "cell_type": "markdown",
   "metadata": {},
   "source": [
    "#### DataFrame"
   ]
  },
  {
   "cell_type": "code",
   "execution_count": 12,
   "metadata": {},
   "outputs": [
    {
     "data": {
      "text/html": [
       "<div>\n",
       "<style scoped>\n",
       "    .dataframe tbody tr th:only-of-type {\n",
       "        vertical-align: middle;\n",
       "    }\n",
       "\n",
       "    .dataframe tbody tr th {\n",
       "        vertical-align: top;\n",
       "    }\n",
       "\n",
       "    .dataframe thead th {\n",
       "        text-align: right;\n",
       "    }\n",
       "</style>\n",
       "<table border=\"1\" class=\"dataframe\">\n",
       "  <thead>\n",
       "    <tr style=\"text-align: right;\">\n",
       "      <th></th>\n",
       "      <th>Swd</th>\n",
       "      <th>Sw</th>\n",
       "      <th>Kro</th>\n",
       "      <th>Krw</th>\n",
       "      <th>Fw</th>\n",
       "    </tr>\n",
       "  </thead>\n",
       "  <tbody>\n",
       "    <tr>\n",
       "      <th>0</th>\n",
       "      <td>0.00</td>\n",
       "      <td>0.37100</td>\n",
       "      <td>1.000000</td>\n",
       "      <td>0.000000</td>\n",
       "      <td>0.000000</td>\n",
       "    </tr>\n",
       "    <tr>\n",
       "      <th>1</th>\n",
       "      <td>0.05</td>\n",
       "      <td>0.38755</td>\n",
       "      <td>0.857375</td>\n",
       "      <td>0.000125</td>\n",
       "      <td>0.001509</td>\n",
       "    </tr>\n",
       "    <tr>\n",
       "      <th>2</th>\n",
       "      <td>0.10</td>\n",
       "      <td>0.40410</td>\n",
       "      <td>0.729000</td>\n",
       "      <td>0.001000</td>\n",
       "      <td>0.014017</td>\n",
       "    </tr>\n",
       "    <tr>\n",
       "      <th>3</th>\n",
       "      <td>0.15</td>\n",
       "      <td>0.42065</td>\n",
       "      <td>0.614125</td>\n",
       "      <td>0.003375</td>\n",
       "      <td>0.053886</td>\n",
       "    </tr>\n",
       "    <tr>\n",
       "      <th>4</th>\n",
       "      <td>0.20</td>\n",
       "      <td>0.43720</td>\n",
       "      <td>0.512000</td>\n",
       "      <td>0.008000</td>\n",
       "      <td>0.139364</td>\n",
       "    </tr>\n",
       "    <tr>\n",
       "      <th>5</th>\n",
       "      <td>0.25</td>\n",
       "      <td>0.45375</td>\n",
       "      <td>0.421875</td>\n",
       "      <td>0.015625</td>\n",
       "      <td>0.277372</td>\n",
       "    </tr>\n",
       "    <tr>\n",
       "      <th>6</th>\n",
       "      <td>0.30</td>\n",
       "      <td>0.47030</td>\n",
       "      <td>0.343000</td>\n",
       "      <td>0.027000</td>\n",
       "      <td>0.449277</td>\n",
       "    </tr>\n",
       "    <tr>\n",
       "      <th>7</th>\n",
       "      <td>0.35</td>\n",
       "      <td>0.48685</td>\n",
       "      <td>0.274625</td>\n",
       "      <td>0.042875</td>\n",
       "      <td>0.618028</td>\n",
       "    </tr>\n",
       "    <tr>\n",
       "      <th>8</th>\n",
       "      <td>0.40</td>\n",
       "      <td>0.50340</td>\n",
       "      <td>0.216000</td>\n",
       "      <td>0.064000</td>\n",
       "      <td>0.754342</td>\n",
       "    </tr>\n",
       "    <tr>\n",
       "      <th>9</th>\n",
       "      <td>0.45</td>\n",
       "      <td>0.51995</td>\n",
       "      <td>0.166375</td>\n",
       "      <td>0.091125</td>\n",
       "      <td>0.850215</td>\n",
       "    </tr>\n",
       "    <tr>\n",
       "      <th>10</th>\n",
       "      <td>0.50</td>\n",
       "      <td>0.53650</td>\n",
       "      <td>0.125000</td>\n",
       "      <td>0.125000</td>\n",
       "      <td>0.912000</td>\n",
       "    </tr>\n",
       "    <tr>\n",
       "      <th>11</th>\n",
       "      <td>0.55</td>\n",
       "      <td>0.55305</td>\n",
       "      <td>0.091125</td>\n",
       "      <td>0.166375</td>\n",
       "      <td>0.949804</td>\n",
       "    </tr>\n",
       "    <tr>\n",
       "      <th>12</th>\n",
       "      <td>0.60</td>\n",
       "      <td>0.56960</td>\n",
       "      <td>0.064000</td>\n",
       "      <td>0.216000</td>\n",
       "      <td>0.972205</td>\n",
       "    </tr>\n",
       "    <tr>\n",
       "      <th>13</th>\n",
       "      <td>0.65</td>\n",
       "      <td>0.58615</td>\n",
       "      <td>0.042875</td>\n",
       "      <td>0.274625</td>\n",
       "      <td>0.985159</td>\n",
       "    </tr>\n",
       "    <tr>\n",
       "      <th>14</th>\n",
       "      <td>0.70</td>\n",
       "      <td>0.60270</td>\n",
       "      <td>0.027000</td>\n",
       "      <td>0.343000</td>\n",
       "      <td>0.992462</td>\n",
       "    </tr>\n",
       "    <tr>\n",
       "      <th>15</th>\n",
       "      <td>0.75</td>\n",
       "      <td>0.61925</td>\n",
       "      <td>0.015625</td>\n",
       "      <td>0.421875</td>\n",
       "      <td>0.996439</td>\n",
       "    </tr>\n",
       "    <tr>\n",
       "      <th>16</th>\n",
       "      <td>0.80</td>\n",
       "      <td>0.63580</td>\n",
       "      <td>0.008000</td>\n",
       "      <td>0.512000</td>\n",
       "      <td>0.998495</td>\n",
       "    </tr>\n",
       "    <tr>\n",
       "      <th>17</th>\n",
       "      <td>0.85</td>\n",
       "      <td>0.65235</td>\n",
       "      <td>0.003375</td>\n",
       "      <td>0.614125</td>\n",
       "      <td>0.999470</td>\n",
       "    </tr>\n",
       "    <tr>\n",
       "      <th>18</th>\n",
       "      <td>0.90</td>\n",
       "      <td>0.66890</td>\n",
       "      <td>0.001000</td>\n",
       "      <td>0.729000</td>\n",
       "      <td>0.999868</td>\n",
       "    </tr>\n",
       "    <tr>\n",
       "      <th>19</th>\n",
       "      <td>0.95</td>\n",
       "      <td>0.68545</td>\n",
       "      <td>0.000125</td>\n",
       "      <td>0.857375</td>\n",
       "      <td>0.999986</td>\n",
       "    </tr>\n",
       "    <tr>\n",
       "      <th>20</th>\n",
       "      <td>1.00</td>\n",
       "      <td>0.70200</td>\n",
       "      <td>0.000000</td>\n",
       "      <td>1.000000</td>\n",
       "      <td>1.000000</td>\n",
       "    </tr>\n",
       "  </tbody>\n",
       "</table>\n",
       "</div>"
      ],
      "text/plain": [
       "     Swd       Sw       Kro       Krw        Fw\n",
       "0   0.00  0.37100  1.000000  0.000000  0.000000\n",
       "1   0.05  0.38755  0.857375  0.000125  0.001509\n",
       "2   0.10  0.40410  0.729000  0.001000  0.014017\n",
       "3   0.15  0.42065  0.614125  0.003375  0.053886\n",
       "4   0.20  0.43720  0.512000  0.008000  0.139364\n",
       "5   0.25  0.45375  0.421875  0.015625  0.277372\n",
       "6   0.30  0.47030  0.343000  0.027000  0.449277\n",
       "7   0.35  0.48685  0.274625  0.042875  0.618028\n",
       "8   0.40  0.50340  0.216000  0.064000  0.754342\n",
       "9   0.45  0.51995  0.166375  0.091125  0.850215\n",
       "10  0.50  0.53650  0.125000  0.125000  0.912000\n",
       "11  0.55  0.55305  0.091125  0.166375  0.949804\n",
       "12  0.60  0.56960  0.064000  0.216000  0.972205\n",
       "13  0.65  0.58615  0.042875  0.274625  0.985159\n",
       "14  0.70  0.60270  0.027000  0.343000  0.992462\n",
       "15  0.75  0.61925  0.015625  0.421875  0.996439\n",
       "16  0.80  0.63580  0.008000  0.512000  0.998495\n",
       "17  0.85  0.65235  0.003375  0.614125  0.999470\n",
       "18  0.90  0.66890  0.001000  0.729000  0.999868\n",
       "19  0.95  0.68545  0.000125  0.857375  0.999986\n",
       "20  1.00  0.70200  0.000000  1.000000  1.000000"
      ]
     },
     "execution_count": 12,
     "metadata": {},
     "output_type": "execute_result"
    }
   ],
   "source": [
    "df = pd.DataFrame({\"Swd\":swd,\"Sw\":sw,\"Kro\":kro,\"Krw\":krw  ,\"Fw\":fw})\n",
    "df"
   ]
  },
  {
   "attachments": {},
   "cell_type": "markdown",
   "metadata": {},
   "source": [
    "#### Fractional Flow Curve"
   ]
  },
  {
   "cell_type": "code",
   "execution_count": 13,
   "metadata": {},
   "outputs": [
    {
     "data": {
      "text/plain": [
       "Text(0.5, 1.0, 'Fractional Flow')"
      ]
     },
     "execution_count": 13,
     "metadata": {},
     "output_type": "execute_result"
    },
    {
     "data": {
      "image/png": "[encoded data removed]",
      "text/plain": [
       "<Figure size 640x480 with 1 Axes>"
      ]
     },
     "metadata": {},
     "output_type": "display_data"
    }
   ],
   "source": [
    "Fw_Curve = plt.plot(sw,fw)\n",
    "plt.xlabel(\"Sw\")\n",
    "plt.ylabel(\"Fw\")\n",
    "plt.title(\"Fractional Flow\")\n"
   ]
  },
  {
   "attachments": {},
   "cell_type": "markdown",
   "metadata": {},
   "source": [
    "#### Breakthrough Time Curve"
   ]
  },
  {
   "cell_type": "code",
   "execution_count": 14,
   "metadata": {},
   "outputs": [
    {
     "data": {
      "text/plain": [
       "Text(0.5, 1.0, 'Fractional Flow (Breakthrough Time)')"
      ]
     },
     "execution_count": 14,
     "metadata": {},
     "output_type": "execute_result"
    },
    {
     "data": {
      "image/png": "[encoded data removed]",
      "text/plain": [
       "<Figure size 640x480 with 1 Axes>"
      ]
     },
     "metadata": {},
     "output_type": "display_data"
    }
   ],
   "source": [
    "#Determine Breakthrough Time\n",
    "xa = sw[0]\n",
    "xb = 0.544              # atur nilai sampai menyinggung kurva \n",
    "ya = fw[0]\n",
    "yb = fw[20]\n",
    "plt.plot(sw,fw)\n",
    "curve_bt, = plt.plot([xa,xb],[ya,yb])\n",
    "\n",
    "#after bt1\n",
    "xbt1a = 0.23            # atur nilai sampai menyinggung kurva \n",
    "xbt1b = 0.564           # atur nilai sampai menyinggung kurva \n",
    "ybt1a = fw[0]\n",
    "ybt1b = fw[20]\n",
    "curve_bt1, = plt.plot([xbt1a,xbt1b],[ybt1a,ybt1b])\n",
    "\n",
    "#after bt2\n",
    "xbt2a = 0.06            # atur nilai sampai menyinggung kurva \n",
    "xbt2b = 0.576           # atur nilai sampai menyinggung kurva \n",
    "ybt2a = fw[0]\n",
    "ybt2b = fw[20]\n",
    "curve_bt2, = plt.plot([xbt2a,xbt2b],[ybt2a,ybt2b])\n",
    "\n",
    "#after bt3\n",
    "xbt3a = 0               # atur nilai sampai menyinggung kurva \n",
    "xbt3b = 0.588           # atur nilai sampai menyinggung kurva \n",
    "ybt3a = fw[5]\n",
    "ybt3b = fw[20]\n",
    "curve_bt3, = plt.plot([xbt3a,xbt3b],[ybt3a,ybt3b])\n",
    "\n",
    "plt.xlabel(\"Sw\")\n",
    "plt.ylabel(\"Fw\")\n",
    "plt.title(\"Fractional Flow (Breakthrough Time)\")\n"
   ]
  },
  {
   "cell_type": "code",
   "execution_count": 15,
   "metadata": {},
   "outputs": [
    {
     "data": {
      "image/png": "[encoded data removed]",
      "text/plain": [
       "<Figure size 640x480 with 1 Axes>"
      ]
     },
     "metadata": {},
     "output_type": "display_data"
    }
   ],
   "source": [
    "\n",
    "p = [xa,xb]\n",
    "o = [ya,yb]\n",
    "\n",
    "plt.plot(sw,fw)\n",
    "plt.plot(p,o)\n",
    "plt.plot([0,0.7],[0.8,0.8],'--')      #nilai 0.8 dapat diketahui dari pembacaan kurva diatas, lihat ketika garis sudah mulai menyinggung pada nilai y berapa\n",
    "line_1 = LineString(np.column_stack(([0,0.7],[0.8,0.8])))  #nilai 0.8 dapat diketahui dari pembacaan kurva diatas, lihat ketika garis sudah mulai menyinggung pada nilai y berapa\n",
    "line_2 = LineString(np.column_stack((sw,fw)))\n",
    "intersection = line_1.intersection(line_2)\n",
    "\n",
    "plt.plot(*intersection.xy, '.')\n",
    "x = intersection.xy\n",
    "\n",
    "\n",
    "\n",
    "q = [xbt1a,xbt1b]\n",
    "m = [ybt1a,ybt1b]\n",
    "\n",
    "plt.plot(sw,fw)\n",
    "plt.plot(q,m)\n",
    "plt.plot([0,0.7],[0.9,0.9],'--') #nilai 0.8 dapat diketahui dari pembacaan kurva diatas, lihat ketika garis sudah mulai menyinggung pada nilai y berapa\n",
    "line_1a = LineString(np.column_stack(([0,0.7],[0.9,0.9]))) #nilai 0.8 dapat diketahui dari pembacaan kurva diatas, lihat ketika garis sudah mulai menyinggung pada nilai y berapa\n",
    "line_2a = LineString(np.column_stack((sw,fw)))\n",
    "intersection = line_1a.intersection(line_2a)\n",
    "\n",
    "plt.plot(*intersection.xy, '.')\n",
    "\n",
    "x1 = intersection.xy\n",
    "\n",
    "q = [xbt2a,xbt2b]\n",
    "m = [ybt2a,ybt2b]\n",
    "\n",
    "plt.plot(sw,fw)\n",
    "plt.plot(q,m)\n",
    "plt.plot([0,0.7],[0.93,0.93],'--') #nilai 0.8 dapat diketahui dari pembacaan kurva diatas, lihat ketika garis sudah mulai menyinggung pada nilai y berapa\n",
    "line_1 = LineString(np.column_stack(([0,0.7],[0.93,0.93]))) #nilai 0.8 dapat diketahui dari pembacaan kurva diatas, lihat ketika garis sudah mulai menyinggung pada nilai y berapa\n",
    "line_2 = LineString(np.column_stack((sw,fw)))\n",
    "intersection = line_1.intersection(line_2)\n",
    "\n",
    "plt.plot(*intersection.xy, '.')\n",
    "\n",
    "x2 = intersection.xy\n",
    "\n",
    "\n",
    "q = [xbt3a,xbt3b]\n",
    "m = [ybt3a,ybt3b]\n",
    "\n",
    "plt.plot(sw,fw)\n",
    "plt.plot(q,m)\n",
    "plt.plot([0,0.7],[0.97,0.97],'--') #nilai 0.8 dapat diketahui dari pembacaan kurva diatas, lihat ketika garis sudah mulai menyinggung pada nilai y berapa\n",
    "line_1a = LineString(np.column_stack(([0,0.7],[0.97,0.97]))) #nilai 0.8 dapat diketahui dari pembacaan kurva diatas, lihat ketika garis sudah mulai menyinggung pada nilai y berapa\n",
    "line_2a = LineString(np.column_stack((sw,fw)))\n",
    "intersection = line_1a.intersection(line_2a)\n",
    "\n",
    "plt.plot(*intersection.xy, '.')\n",
    "plt.title(\"Fractional Flow (Breakthrough Time)\")    \n",
    "x3 = intersection.xy\n",
    "\n",
    "\n",
    "\n"
   ]
  },
  {
   "cell_type": "code",
   "execution_count": 16,
   "metadata": {},
   "outputs": [],
   "source": [
    "SwAvg_bt = curve_bt.get_xdata()\n",
    "SwAvg_bt1 = curve_bt1.get_xdata()\n",
    "SwAvg_bt2 = curve_bt2.get_xdata()\n",
    "SwAvg_bt3 = curve_bt3.get_xdata()\n"
   ]
  },
  {
   "cell_type": "code",
   "execution_count": 17,
   "metadata": {},
   "outputs": [
    {
     "data": {
      "text/plain": [
       "array([0.371, 0.544])"
      ]
     },
     "execution_count": 17,
     "metadata": {},
     "output_type": "execute_result"
    }
   ],
   "source": [
    "SwAvg_bt"
   ]
  },
  {
   "cell_type": "code",
   "execution_count": 18,
   "metadata": {},
   "outputs": [
    {
     "data": {
      "text/html": [
       "<div>\n",
       "<style scoped>\n",
       "    .dataframe tbody tr th:only-of-type {\n",
       "        vertical-align: middle;\n",
       "    }\n",
       "\n",
       "    .dataframe tbody tr th {\n",
       "        vertical-align: top;\n",
       "    }\n",
       "\n",
       "    .dataframe thead th {\n",
       "        text-align: right;\n",
       "    }\n",
       "</style>\n",
       "<table border=\"1\" class=\"dataframe\">\n",
       "  <thead>\n",
       "    <tr style=\"text-align: right;\">\n",
       "      <th></th>\n",
       "      <th>Sw Avg</th>\n",
       "    </tr>\n",
       "  </thead>\n",
       "  <tbody>\n",
       "    <tr>\n",
       "      <th>bt</th>\n",
       "      <td>0.544</td>\n",
       "    </tr>\n",
       "    <tr>\n",
       "      <th>bt1</th>\n",
       "      <td>0.564</td>\n",
       "    </tr>\n",
       "    <tr>\n",
       "      <th>bt2</th>\n",
       "      <td>0.576</td>\n",
       "    </tr>\n",
       "    <tr>\n",
       "      <th>bt3</th>\n",
       "      <td>0.588</td>\n",
       "    </tr>\n",
       "  </tbody>\n",
       "</table>\n",
       "</div>"
      ],
      "text/plain": [
       "     Sw Avg\n",
       "bt    0.544\n",
       "bt1   0.564\n",
       "bt2   0.576\n",
       "bt3   0.588"
      ]
     },
     "execution_count": 18,
     "metadata": {},
     "output_type": "execute_result"
    }
   ],
   "source": [
    "SwAvg = pd.DataFrame({\"bt\":SwAvg_bt, \"bt1\":SwAvg_bt1,\"bt2\":SwAvg_bt2,\"bt3\":SwAvg_bt3})\n",
    "Sw_Avg = SwAvg.drop([0])\n",
    "Sw_Avg =Sw_Avg.transpose()\n",
    "Sw_Avg.columns=['Sw Avg']\n",
    "Sw_Avg"
   ]
  },
  {
   "cell_type": "code",
   "execution_count": 19,
   "metadata": {},
   "outputs": [],
   "source": [
    "import array\n",
    "array.typecodes\n",
    "Swf = x[0][0]\n",
    "Swf1 = x1[0][0]\n",
    "Swf2 = x2[0][0]\n",
    "Swf3 = x3[0][0]"
   ]
  },
  {
   "cell_type": "code",
   "execution_count": 20,
   "metadata": {},
   "outputs": [],
   "source": [
    "column = ([Swf,Swf1,Swf2,Swf3])\n",
    "index = (['bt','bt1','bt2','bt3'])"
   ]
  },
  {
   "cell_type": "code",
   "execution_count": 21,
   "metadata": {},
   "outputs": [],
   "source": [
    "Swf_bt = pd.DataFrame(column,index)\n",
    "Swf_bt.columns=['Swf']"
   ]
  },
  {
   "cell_type": "code",
   "execution_count": 22,
   "metadata": {},
   "outputs": [
    {
     "data": {
      "text/html": [
       "<div>\n",
       "<style scoped>\n",
       "    .dataframe tbody tr th:only-of-type {\n",
       "        vertical-align: middle;\n",
       "    }\n",
       "\n",
       "    .dataframe tbody tr th {\n",
       "        vertical-align: top;\n",
       "    }\n",
       "\n",
       "    .dataframe thead th {\n",
       "        text-align: right;\n",
       "    }\n",
       "</style>\n",
       "<table border=\"1\" class=\"dataframe\">\n",
       "  <thead>\n",
       "    <tr style=\"text-align: right;\">\n",
       "      <th></th>\n",
       "      <th>Swf</th>\n",
       "    </tr>\n",
       "  </thead>\n",
       "  <tbody>\n",
       "    <tr>\n",
       "      <th>bt</th>\n",
       "      <td>0.511282</td>\n",
       "    </tr>\n",
       "    <tr>\n",
       "      <th>bt1</th>\n",
       "      <td>0.533286</td>\n",
       "    </tr>\n",
       "    <tr>\n",
       "      <th>bt2</th>\n",
       "      <td>0.544380</td>\n",
       "    </tr>\n",
       "    <tr>\n",
       "      <th>bt3</th>\n",
       "      <td>0.567971</td>\n",
       "    </tr>\n",
       "  </tbody>\n",
       "</table>\n",
       "</div>"
      ],
      "text/plain": [
       "          Swf\n",
       "bt   0.511282\n",
       "bt1  0.533286\n",
       "bt2  0.544380\n",
       "bt3  0.567971"
      ]
     },
     "execution_count": 22,
     "metadata": {},
     "output_type": "execute_result"
    }
   ],
   "source": [
    "Swf_bt"
   ]
  },
  {
   "cell_type": "code",
   "execution_count": 23,
   "metadata": {},
   "outputs": [
    {
     "data": {
      "text/html": [
       "<div>\n",
       "<style scoped>\n",
       "    .dataframe tbody tr th:only-of-type {\n",
       "        vertical-align: middle;\n",
       "    }\n",
       "\n",
       "    .dataframe tbody tr th {\n",
       "        vertical-align: top;\n",
       "    }\n",
       "\n",
       "    .dataframe thead th {\n",
       "        text-align: right;\n",
       "    }\n",
       "</style>\n",
       "<table border=\"1\" class=\"dataframe\">\n",
       "  <thead>\n",
       "    <tr style=\"text-align: right;\">\n",
       "      <th></th>\n",
       "      <th>Fw</th>\n",
       "    </tr>\n",
       "  </thead>\n",
       "  <tbody>\n",
       "    <tr>\n",
       "      <th>bt</th>\n",
       "      <td>0.80</td>\n",
       "    </tr>\n",
       "    <tr>\n",
       "      <th>bt1</th>\n",
       "      <td>0.90</td>\n",
       "    </tr>\n",
       "    <tr>\n",
       "      <th>bt2</th>\n",
       "      <td>0.93</td>\n",
       "    </tr>\n",
       "    <tr>\n",
       "      <th>bt3</th>\n",
       "      <td>0.97</td>\n",
       "    </tr>\n",
       "  </tbody>\n",
       "</table>\n",
       "</div>"
      ],
      "text/plain": [
       "       Fw\n",
       "bt   0.80\n",
       "bt1  0.90\n",
       "bt2  0.93\n",
       "bt3  0.97"
      ]
     },
     "execution_count": 23,
     "metadata": {},
     "output_type": "execute_result"
    }
   ],
   "source": [
    "Fw = pd.DataFrame({'bt':[0.8],'bt1':[0.9],'bt2':[0.93],'bt3':[0.97]})\n",
    "Fw = Fw.transpose()\n",
    "Fw.columns = ['Fw']\n",
    "Fw"
   ]
  },
  {
   "cell_type": "code",
   "execution_count": 24,
   "metadata": {},
   "outputs": [
    {
     "data": {
      "text/html": [
       "<div>\n",
       "<style scoped>\n",
       "    .dataframe tbody tr th:only-of-type {\n",
       "        vertical-align: middle;\n",
       "    }\n",
       "\n",
       "    .dataframe tbody tr th {\n",
       "        vertical-align: top;\n",
       "    }\n",
       "\n",
       "    .dataframe thead th {\n",
       "        text-align: right;\n",
       "    }\n",
       "</style>\n",
       "<table border=\"1\" class=\"dataframe\">\n",
       "  <thead>\n",
       "    <tr style=\"text-align: right;\">\n",
       "      <th></th>\n",
       "      <th>Sw Avg</th>\n",
       "      <th>Swf</th>\n",
       "      <th>Fw</th>\n",
       "    </tr>\n",
       "  </thead>\n",
       "  <tbody>\n",
       "    <tr>\n",
       "      <th>bt</th>\n",
       "      <td>0.544</td>\n",
       "      <td>0.511282</td>\n",
       "      <td>0.80</td>\n",
       "    </tr>\n",
       "    <tr>\n",
       "      <th>bt1</th>\n",
       "      <td>0.564</td>\n",
       "      <td>0.533286</td>\n",
       "      <td>0.90</td>\n",
       "    </tr>\n",
       "    <tr>\n",
       "      <th>bt2</th>\n",
       "      <td>0.576</td>\n",
       "      <td>0.544380</td>\n",
       "      <td>0.93</td>\n",
       "    </tr>\n",
       "    <tr>\n",
       "      <th>bt3</th>\n",
       "      <td>0.588</td>\n",
       "      <td>0.567971</td>\n",
       "      <td>0.97</td>\n",
       "    </tr>\n",
       "  </tbody>\n",
       "</table>\n",
       "</div>"
      ],
      "text/plain": [
       "     Sw Avg       Swf    Fw\n",
       "bt    0.544  0.511282  0.80\n",
       "bt1   0.564  0.533286  0.90\n",
       "bt2   0.576  0.544380  0.93\n",
       "bt3   0.588  0.567971  0.97"
      ]
     },
     "execution_count": 24,
     "metadata": {},
     "output_type": "execute_result"
    }
   ],
   "source": [
    "clean_data = pd.concat([Sw_Avg, Swf_bt, Fw], axis=1)\n",
    "clean_data"
   ]
  },
  {
   "cell_type": "code",
   "execution_count": 25,
   "metadata": {},
   "outputs": [
    {
     "data": {
      "text/plain": [
       "0.8"
      ]
     },
     "execution_count": 25,
     "metadata": {},
     "output_type": "execute_result"
    }
   ],
   "source": [
    "clean_data.iat[0,2]"
   ]
  },
  {
   "attachments": {},
   "cell_type": "markdown",
   "metadata": {},
   "source": [
    "#### Breakthrough Calculation"
   ]
  },
  {
   "cell_type": "code",
   "execution_count": 26,
   "metadata": {},
   "outputs": [
    {
     "name": "stdout",
     "output_type": "stream",
     "text": [
      "27.5039745627981 %\n"
     ]
    }
   ],
   "source": [
    "#Water Cut\n",
    "water_cutbt = clean_data.iat[0,2]*100\n",
    "water_cutbt\n",
    "\n",
    "#time/day\n",
    "time_bt = (VporeN/Q_rate)*(clean_data.iat[0,0]-Swi)\n",
    "time_bt\n",
    "\n",
    "#Injected Volume\n",
    "InjectV_bt = (Q_rate*time_bt)/VporeN\n",
    "InjectV_bt\n",
    "\n",
    "#Oil Produce Rate\n",
    "OilProduceRate_bt = Q_rate*(1-clean_data.iat[0,2])\n",
    "OilProduceRate_bt\n",
    "\n",
    "#Cumulative Oil Displace\n",
    "CumOilDisplacebt = VporeN*(clean_data.iat[0,0]-Swi)\n",
    "CumOilDisplacebt\n",
    "\n",
    "#Recovery Factor\n",
    "Rf_bt = ((CumOilDisplacebt*Fvf)/(VporeN*(1-Swi)))*100\n",
    "print(Rf_bt, \"%\")"
   ]
  },
  {
   "attachments": {},
   "cell_type": "markdown",
   "metadata": {},
   "source": [
    "#### After Breakthrough 1 Calculation"
   ]
  },
  {
   "cell_type": "code",
   "execution_count": 27,
   "metadata": {},
   "outputs": [
    {
     "name": "stdout",
     "output_type": "stream",
     "text": [
      "30.683624801271854 %\n"
     ]
    }
   ],
   "source": [
    "#Water Cut\n",
    "water_cutbt1 = clean_data.iat[1,2]*100\n",
    "water_cutbt1\n",
    "\n",
    "#time/day\n",
    "time_bt1 = (VporeN/Q_rate)*((clean_data.iat[1,0]-clean_data.iat[1,1])/(1-clean_data.iat[1,2]))\n",
    "time_bt1\n",
    "\n",
    "#Injected Volume\n",
    "InjectV_bt1 = (Q_rate*time_bt1)/VporeN\n",
    "InjectV_bt1\n",
    "\n",
    "#Oil Produce Rate\n",
    "OilProduceRate_bt1 = Q_rate*(1-clean_data.iat[1,2])\n",
    "OilProduceRate_bt1\n",
    "\n",
    "#Cumulative Oil Displace\n",
    "CumOilDisplacebt1 = VporeN*(clean_data.iat[1,0]-Swi)\n",
    "CumOilDisplacebt1\n",
    "\n",
    "#Recovery Factor\n",
    "Rf_bt1 = ((CumOilDisplacebt1*Fvf)/(VporeN*(1-Swi)))*100\n",
    "print(Rf_bt1, \"%\")"
   ]
  },
  {
   "attachments": {},
   "cell_type": "markdown",
   "metadata": {},
   "source": [
    "#### After Breakthrough 2 Calculation"
   ]
  },
  {
   "cell_type": "code",
   "execution_count": 28,
   "metadata": {},
   "outputs": [
    {
     "name": "stdout",
     "output_type": "stream",
     "text": [
      "32.59141494435612 %\n"
     ]
    }
   ],
   "source": [
    "#Water Cut\n",
    "water_cutbt2 = clean_data.iat[2,2]*100\n",
    "water_cutbt2\n",
    "\n",
    "#time/day\n",
    "time_bt2 = (VporeN/Q_rate)*((clean_data.iat[2,0]-clean_data.iat[2,1])/(1-clean_data.iat[2,2]))\n",
    "time_bt2\n",
    "\n",
    "#Injected Volume\n",
    "InjectV_bt2 = (Q_rate*time_bt2)/VporeN\n",
    "InjectV_bt2\n",
    "\n",
    "#Oil Produce Rate\n",
    "OilProduceRate_bt2 = Q_rate*(1-clean_data.iat[2,2])\n",
    "OilProduceRate_bt2\n",
    "\n",
    "#Cumulative Oil Displace\n",
    "CumOilDisplacebt2 = VporeN*(clean_data.iat[2,0]-Swi)\n",
    "CumOilDisplacebt2\n",
    "\n",
    "#Recovery Factor\n",
    "Rf_bt2 = ((CumOilDisplacebt2*Fvf)/(VporeN*(1-Swi)))*100\n",
    "print(Rf_bt2, \"%\")"
   ]
  },
  {
   "attachments": {},
   "cell_type": "markdown",
   "metadata": {},
   "source": [
    "#### After Breakthrough 3 Calculation"
   ]
  },
  {
   "cell_type": "code",
   "execution_count": 29,
   "metadata": {},
   "outputs": [
    {
     "name": "stdout",
     "output_type": "stream",
     "text": [
      "34.49920508744037 %\n"
     ]
    }
   ],
   "source": [
    "#Water Cut\n",
    "water_cutbt3 = clean_data.iat[3,2]*100\n",
    "water_cutbt3\n",
    "\n",
    "#time/day\n",
    "time_bt3 = (VporeN/Q_rate)*((clean_data.iat[3,0]-clean_data.iat[3,1])/(1-clean_data.iat[3,2]))\n",
    "time_bt3\n",
    "\n",
    "#Injected Volume\n",
    "InjectV_bt3 = (Q_rate*time_bt3)/VporeN\n",
    "InjectV_bt3\n",
    "\n",
    "#Oil Produce Rate\n",
    "OilProduceRate_bt3 = Q_rate*(1-clean_data.iat[3,2])\n",
    "OilProduceRate_bt3\n",
    "\n",
    "#Cumulative Oil Displace\n",
    "CumOilDisplacebt3 = VporeN*(clean_data.iat[3,0]-Swi)\n",
    "CumOilDisplacebt3\n",
    "\n",
    "#Recovery Factor\n",
    "Rf_bt3 = ((CumOilDisplacebt3*Fvf)/(VporeN*(1-Swi)))*100\n",
    "print(Rf_bt3, \"%\")"
   ]
  },
  {
   "attachments": {},
   "cell_type": "markdown",
   "metadata": {},
   "source": [
    "#### Production Profile Output DataFrame"
   ]
  },
  {
   "cell_type": "code",
   "execution_count": 30,
   "metadata": {},
   "outputs": [
    {
     "data": {
      "text/html": [
       "<div>\n",
       "<style scoped>\n",
       "    .dataframe tbody tr th:only-of-type {\n",
       "        vertical-align: middle;\n",
       "    }\n",
       "\n",
       "    .dataframe tbody tr th {\n",
       "        vertical-align: top;\n",
       "    }\n",
       "\n",
       "    .dataframe thead th {\n",
       "        text-align: right;\n",
       "    }\n",
       "</style>\n",
       "<table border=\"1\" class=\"dataframe\">\n",
       "  <thead>\n",
       "    <tr style=\"text-align: right;\">\n",
       "      <th></th>\n",
       "      <th>Fw</th>\n",
       "      <th>Swf</th>\n",
       "      <th>Sw Avg</th>\n",
       "      <th>Water Cut (%)</th>\n",
       "      <th>Time (day)</th>\n",
       "      <th>Injected Volume (PV)</th>\n",
       "      <th>Oil Production rate</th>\n",
       "      <th>Cumulative Oil Displaced</th>\n",
       "      <th>Recovery Factor (%)</th>\n",
       "    </tr>\n",
       "  </thead>\n",
       "  <tbody>\n",
       "    <tr>\n",
       "      <th>Before Breakthrough</th>\n",
       "      <td>0.00</td>\n",
       "      <td>-</td>\n",
       "      <td>-</td>\n",
       "      <td>0.0</td>\n",
       "      <td>0.000000</td>\n",
       "      <td>0.000000</td>\n",
       "      <td>608.00</td>\n",
       "      <td>0.000000</td>\n",
       "      <td>0.000000</td>\n",
       "    </tr>\n",
       "    <tr>\n",
       "      <th>Before Breakthrough</th>\n",
       "      <td>0.80</td>\n",
       "      <td>-</td>\n",
       "      <td>-</td>\n",
       "      <td>80.0</td>\n",
       "      <td>36.963911</td>\n",
       "      <td>0.173000</td>\n",
       "      <td>608.00</td>\n",
       "      <td>22474.057785</td>\n",
       "      <td>27.503975</td>\n",
       "    </tr>\n",
       "    <tr>\n",
       "      <th>Breakthrough</th>\n",
       "      <td>0.80</td>\n",
       "      <td>0.511282</td>\n",
       "      <td>0.544</td>\n",
       "      <td>80.0</td>\n",
       "      <td>36.963911</td>\n",
       "      <td>0.173000</td>\n",
       "      <td>121.60</td>\n",
       "      <td>22474.057785</td>\n",
       "      <td>27.503975</td>\n",
       "    </tr>\n",
       "    <tr>\n",
       "      <th>After Breakthrough 1</th>\n",
       "      <td>0.90</td>\n",
       "      <td>0.533286</td>\n",
       "      <td>0.564</td>\n",
       "      <td>90.0</td>\n",
       "      <td>65.625665</td>\n",
       "      <td>0.307144</td>\n",
       "      <td>60.80</td>\n",
       "      <td>25072.214755</td>\n",
       "      <td>30.683625</td>\n",
       "    </tr>\n",
       "    <tr>\n",
       "      <th>After Breakthrough 2</th>\n",
       "      <td>0.93</td>\n",
       "      <td>0.54438</td>\n",
       "      <td>0.576</td>\n",
       "      <td>93.0</td>\n",
       "      <td>96.514668</td>\n",
       "      <td>0.451712</td>\n",
       "      <td>42.56</td>\n",
       "      <td>26631.108936</td>\n",
       "      <td>32.591415</td>\n",
       "    </tr>\n",
       "    <tr>\n",
       "      <th>After Breakthrough 3</th>\n",
       "      <td>0.97</td>\n",
       "      <td>0.567971</td>\n",
       "      <td>0.588</td>\n",
       "      <td>97.0</td>\n",
       "      <td>142.648174</td>\n",
       "      <td>0.667628</td>\n",
       "      <td>18.24</td>\n",
       "      <td>28190.003118</td>\n",
       "      <td>34.499205</td>\n",
       "    </tr>\n",
       "  </tbody>\n",
       "</table>\n",
       "</div>"
      ],
      "text/plain": [
       "                        Fw       Swf Sw Avg  Water Cut (%)  Time (day)  \\\n",
       "Before Breakthrough   0.00         -      -            0.0    0.000000   \n",
       "Before Breakthrough   0.80         -      -           80.0   36.963911   \n",
       "Breakthrough          0.80  0.511282  0.544           80.0   36.963911   \n",
       "After Breakthrough 1  0.90  0.533286  0.564           90.0   65.625665   \n",
       "After Breakthrough 2  0.93   0.54438  0.576           93.0   96.514668   \n",
       "After Breakthrough 3  0.97  0.567971  0.588           97.0  142.648174   \n",
       "\n",
       "                      Injected Volume (PV)  Oil Production rate  \\\n",
       "Before Breakthrough               0.000000               608.00   \n",
       "Before Breakthrough               0.173000               608.00   \n",
       "Breakthrough                      0.173000               121.60   \n",
       "After Breakthrough 1              0.307144                60.80   \n",
       "After Breakthrough 2              0.451712                42.56   \n",
       "After Breakthrough 3              0.667628                18.24   \n",
       "\n",
       "                      Cumulative Oil Displaced  Recovery Factor (%)  \n",
       "Before Breakthrough                   0.000000             0.000000  \n",
       "Before Breakthrough               22474.057785            27.503975  \n",
       "Breakthrough                      22474.057785            27.503975  \n",
       "After Breakthrough 1              25072.214755            30.683625  \n",
       "After Breakthrough 2              26631.108936            32.591415  \n",
       "After Breakthrough 3              28190.003118            34.499205  "
      ]
     },
     "execution_count": 30,
     "metadata": {},
     "output_type": "execute_result"
    }
   ],
   "source": [
    "ProdProfile = pd.DataFrame({\"Fw\":[0, clean_data.iat[0,2],clean_data.iat[0,2],clean_data.iat[1,2],clean_data.iat[2,2],clean_data.iat[3,2] ],\n",
    "                    \"Swf\":['-','-',clean_data.iat[0,1],clean_data.iat[1,1],clean_data.iat[2,1],clean_data.iat[3,1]],\n",
    "                    \"Sw Avg\":['-','-',clean_data.iat[0,0],clean_data.iat[1,0],clean_data.iat[2,0],clean_data.iat[3,0]],\n",
    "                    \"Water Cut (%)\":[0, water_cutbt,water_cutbt,water_cutbt1,water_cutbt2,water_cutbt3],\n",
    "                    \"Time (day)\":[0, time_bt,time_bt,time_bt1,time_bt2,time_bt3],\n",
    "                    \"Injected Volume (PV)\":[0, InjectV_bt,InjectV_bt,InjectV_bt1,InjectV_bt2,InjectV_bt3],\n",
    "                    \"Oil Production rate\":[Q_rate, Q_rate, OilProduceRate_bt,OilProduceRate_bt1,OilProduceRate_bt2,OilProduceRate_bt3],\n",
    "                    \"Cumulative Oil Displaced\":[0, CumOilDisplacebt,CumOilDisplacebt,CumOilDisplacebt1,CumOilDisplacebt2,CumOilDisplacebt3],\n",
    "                    \"Recovery Factor (%)\":[0,Rf_bt,Rf_bt,Rf_bt1,Rf_bt2,Rf_bt3]\n",
    "                    })\n",
    "ProdProfile.index= [\"Before Breakthrough\", \"Before Breakthrough\",\"Breakthrough\",\"After Breakthrough 1\",\"After Breakthrough 2\",\"After Breakthrough 3\"]\n",
    "ProdProfile\n"
   ]
  },
  {
   "cell_type": "code",
   "execution_count": 31,
   "metadata": {},
   "outputs": [
    {
     "name": "stderr",
     "output_type": "stream",
     "text": [
      "C:\\Users\\kemalrevian\\AppData\\Local\\Temp\\ipykernel_16716\\3214850126.py:1: FutureWarning: The default value of numeric_only in DataFrame.corr is deprecated. In a future version, it will default to False. Select only valid columns or specify the value of numeric_only to silence this warning.\n",
      "  sns.heatmap(ProdProfile.corr(), annot=True)\n"
     ]
    },
    {
     "data": {
      "text/plain": [
       "<Axes: >"
      ]
     },
     "execution_count": 31,
     "metadata": {},
     "output_type": "execute_result"
    },
    {
     "data": {
      "image/png": "[encoded data removed]",
      "text/plain": [
       "<Figure size 640x480 with 2 Axes>"
      ]
     },
     "metadata": {},
     "output_type": "display_data"
    }
   ],
   "source": [
    "sns.heatmap(ProdProfile.corr(), annot=True)"
   ]
  },
  {
   "cell_type": "code",
   "execution_count": 32,
   "metadata": {},
   "outputs": [
    {
     "data": {
      "text/plain": [
       "[<matplotlib.lines.Line2D at 0x20f038ac790>]"
      ]
     },
     "execution_count": 32,
     "metadata": {},
     "output_type": "execute_result"
    },
    {
     "data": {
      "image/png": "[encoded data removed]",
      "text/plain": [
       "<Figure size 640x480 with 1 Axes>"
      ]
     },
     "metadata": {},
     "output_type": "display_data"
    }
   ],
   "source": [
    "plt.plot(ProdProfile[\"Time (day)\"],ProdProfile[\"Oil Production rate\"])\n"
   ]
  },
  {
   "cell_type": "code",
   "execution_count": 33,
   "metadata": {},
   "outputs": [
    {
     "data": {
      "text/plain": [
       "[<matplotlib.lines.Line2D at 0x20f0395c150>]"
      ]
     },
     "execution_count": 33,
     "metadata": {},
     "output_type": "execute_result"
    },
    {
     "data": {
      "image/png": "[encoded data removed]",
      "text/plain": [
       "<Figure size 640x480 with 1 Axes>"
      ]
     },
     "metadata": {},
     "output_type": "display_data"
    }
   ],
   "source": [
    "plt.plot(ProdProfile[\"Time (day)\"],ProdProfile[\"Cumulative Oil Displaced\"])"
   ]
  }
 ],
 "metadata": {
  "kernelspec": {
   "display_name": "Python 3",
   "language": "python",
   "name": "python3"
  },
  "language_info": {
   "codemirror_mode": {
    "name": "ipython",
    "version": 3
   },
   "file_extension": ".py",
   "mimetype": "text/x-python",
   "name": "python",
   "nbconvert_exporter": "python",
   "pygments_lexer": "ipython3",
   "version": "3.11.2"
  },
  "orig_nbformat": 4
 },
 "nbformat": 4,
 "nbformat_minor": 2
}
